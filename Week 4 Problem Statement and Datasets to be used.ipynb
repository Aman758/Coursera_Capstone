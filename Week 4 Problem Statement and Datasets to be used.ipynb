{
 "cells": [
  {
   "cell_type": "markdown",
   "metadata": {},
   "source": [
    "# Capstone Project: The Battle of Neighborhoods"
   ]
  },
  {
   "cell_type": "markdown",
   "metadata": {},
   "source": [
    "## Problem Statement"
   ]
  },
  {
   "cell_type": "markdown",
   "metadata": {},
   "source": [
    "#### People of all kinds from around the world flock to London, UK with some of these them aspiring to make this remarkable place a home of their own. With varying budgets and needs, people find it very hard to find a suitable place and neighborhood to accommodate them and their families. Due to high cost of living and other multiple issues, London housing has been struggling. With the inevitable Brexit, the problem has further compounded. A potential client aspiring to buy a suitable property would like to become knowledgeable about the ongoing pricing to make a conscious decision. Further, he/ she would like to consider several factors like proximity to schools, medical care, restaurants to accommodate his/ her familial needs.\n",
    "\n",
    "#### With government provided authentic data on London properties coupled with data science techniques, one can make derive the useful information about current pricing in different localities of London while considering other factors of his choice. This would help the potential client to make an informed decision about buying a suitable property.\n"
   ]
  },
  {
   "cell_type": "markdown",
   "metadata": {},
   "source": [
    "### *Target audience*: -\n",
    "Potential clients look to buy suitable property in London but are skeptical due to lack of knowledge and volatile market conditions."
   ]
  },
  {
   "cell_type": "markdown",
   "metadata": {},
   "source": [
    "#### *Stakeholders: -*\n",
    "1.\tGovernment of UK\n",
    "2.\tSellers\n",
    "3.\tBuyers\n",
    "4.\tReal estate agents"
   ]
  },
  {
   "cell_type": "markdown",
   "metadata": {},
   "source": [
    "### Data To Be Used"
   ]
  },
  {
   "cell_type": "markdown",
   "metadata": {},
   "source": [
    "DataSet 1: \n",
    "Open Data published by Government of UK under the section HM Land Registry: Price Paid Data\n",
    "\n",
    "Type of data: -\n",
    "CSV file\n",
    "\n",
    "Duration: - \n",
    "August 2018 data\n",
    "\n",
    "*Description of the dataset*: -\n",
    "Price Paid Data includes information on all property sales in England and Wales that are sold for full market value and are lodged with us for registration.\n",
    "\n",
    "The dataset includes the transactions received at HM Land Registry in the period from the first to the last day of August 2018.\n",
    "\n",
    "This dataset was downloaded and later hosted on https://labs.cognitiveclass.ai/ for ease of use.\n",
    "\n",
    "Source: -\n",
    "http://landregistry.data.gov.uk/\n"
   ]
  },
  {
   "cell_type": "markdown",
   "metadata": {},
   "source": [
    "DataSet 2: - \n",
    "Google Maps Geocoding API \n",
    "\n",
    "Type of data: -\n",
    "JSON\n",
    "\n",
    "Duration: - \n",
    "N/A\n",
    "\n",
    "Description of the data: -\n",
    "Location coordinates obtained by Gmaps API calls.\n",
    "\n",
    "Location Information obtained from Price Paid Dataset is used to obtain the location coordinates from Google Maps.\n",
    "\n",
    "A separate Python script has been developed to extract the unique street names, district names from the Price Paid Dataset and embed those in the GMaps API calls to obtain the required information.\n",
    "\n",
    "Source: -\n",
    "Google Cloud Platform/ Google Maps\n"
   ]
  },
  {
   "cell_type": "markdown",
   "metadata": {},
   "source": [
    "DataSet 3:\n",
    "Foursquare location data\n",
    "\n",
    "Type of data: -\n",
    "JSON\n",
    "\n",
    "Duration: - \n",
    "N/A\n",
    "\n",
    "Description of the data: -\n",
    "Location coordinates obtained by Foursquare API calls.\n",
    "\n",
    "To determine the proximity of various amenities as per the client’s requirement, Foursquare location data is used.\n",
    "\n",
    "Source: -\n",
    "https://foursquare.com/"
   ]
  },
  {
   "cell_type": "code",
   "execution_count": null,
   "metadata": {},
   "outputs": [],
   "source": []
  }
 ],
 "metadata": {
  "kernelspec": {
   "display_name": "Python",
   "language": "python",
   "name": "conda-env-python-py"
  },
  "language_info": {
   "codemirror_mode": {
    "name": "ipython",
    "version": 3
   },
   "file_extension": ".py",
   "mimetype": "text/x-python",
   "name": "python",
   "nbconvert_exporter": "python",
   "pygments_lexer": "ipython3",
   "version": "3.6.7"
  }
 },
 "nbformat": 4,
 "nbformat_minor": 4
}
